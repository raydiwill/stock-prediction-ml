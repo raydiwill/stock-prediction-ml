{
 "cells": [
  {
   "cell_type": "code",
   "execution_count": null,
   "id": "8cb37fc6",
   "metadata": {},
   "outputs": [],
   "source": [
    "import great_expectations as gx\n",
    "import pandas as pd"
   ]
  },
  {
   "cell_type": "code",
   "execution_count": null,
   "id": "de6111d1",
   "metadata": {},
   "outputs": [],
   "source": [
    "context = gx.get_context()"
   ]
  },
  {
   "cell_type": "code",
   "execution_count": null,
   "id": "23c00ffe",
   "metadata": {},
   "outputs": [],
   "source": [
    "data_source = context.data_sources.add_pandas(name=\"raw_stock_data\")\n",
    "data_asset = data_source.add_dataframe_asset(name=\"raw_stock_data_asset\")"
   ]
  },
  {
   "cell_type": "code",
   "execution_count": null,
   "id": "a8fa551a",
   "metadata": {},
   "outputs": [],
   "source": [
    "batch_definition_name = \"raw_stock_data_batch\"\n",
    "batch_definition = data_asset.add_batch_definition_whole_dataframe(name=batch_definition_name)"
   ]
  },
  {
   "cell_type": "code",
   "execution_count": null,
   "id": "d32d7cba",
   "metadata": {},
   "outputs": [],
   "source": [
    "batch_parameters = {\"dataframe\": pd.read_parquet(\"../data/raw/stock_data.parquet\")}\n",
    "batch = batch_definition.get_batch(batch_parameters=batch_parameters)"
   ]
  },
  {
   "cell_type": "code",
   "execution_count": null,
   "id": "4cc3ee5d",
   "metadata": {},
   "outputs": [],
   "source": [
    "df = pd.read_parquet(\"../data/raw/stock_data.parquet\")\n",
    "df.head()"
   ]
  },
  {
   "cell_type": "code",
   "execution_count": null,
   "id": "3b7d016c",
   "metadata": {},
   "outputs": [],
   "source": [
    "expectation_suite_name = \"stock_data_expectation_suite\"\n",
    "suite = gx.ExpectationSuite(name=expectation_suite_name)\n",
    "\n",
    "suite.add_expectation(\n",
    "    gx.expectations.ExpectColumnValuesToNotBeNull(column=\"symbol\")\n",
    ")\n",
    "suite.add_expectation(\n",
    "    gx.expectations.ExpectTableColumnsToMatchSet(column_set=[\"date\", \"open\", \"high\", \"low\", \"close\", \"volume\", \"symbol\", \"adj_close\"])\n",
    ")"
   ]
  },
  {
   "cell_type": "code",
   "execution_count": null,
   "id": "6aff7907",
   "metadata": {},
   "outputs": [],
   "source": [
    "# --- Schema: exact columns present (order-insensitive) ---\n",
    "suite.add_expectation(\n",
    "    gx.expectations.ExpectTableColumnsToMatchSet(\n",
    "        column_set=[\"date\", \"symbol\", \"open\", \"high\", \"low\", \"close\", \"volume\", \"adj_close\"]\n",
    "    )\n",
    ")\n",
    "\n",
    "# --- Basic completeness ---\n",
    "suite.add_expectation(gx.expectations.ExpectColumnValuesToNotBeNull(column=\"date\"))\n",
    "suite.add_expectation(gx.expectations.ExpectColumnValuesToNotBeNull(column=\"symbol\"))\n",
    "suite.add_expectation(gx.expectations.ExpectColumnValuesToNotBeNull(column=\"open\"))\n",
    "suite.add_expectation(gx.expectations.ExpectColumnValuesToNotBeNull(column=\"close\"))\n",
    "suite.add_expectation(gx.expectations.ExpectColumnValuesToNotBeNull(column=\"volume\"))\n",
    "\n",
    "# --- Data types (Pandas dtypes shown; adjust if your backend differs) ---\n",
    "suite.add_expectation(\n",
    "    gx.expectations.ExpectColumnValuesToBeOfType(column=\"date\", type_=\"datetime64[ns]\")\n",
    ")\n",
    "suite.add_expectation(\n",
    "    gx.expectations.ExpectColumnValuesToBeOfType(column=\"symbol\", type_=\"object\")\n",
    ")\n",
    "suite.add_expectation(\n",
    "    gx.expectations.ExpectColumnValuesToBeOfType(column=\"open\", type_=\"float64\")\n",
    ")\n",
    "suite.add_expectation(\n",
    "    gx.expectations.ExpectColumnValuesToBeOfType(column=\"high\", type_=\"float64\")\n",
    ")\n",
    "suite.add_expectation(\n",
    "    gx.expectations.ExpectColumnValuesToBeOfType(column=\"low\", type_=\"float64\")\n",
    ")\n",
    "suite.add_expectation(\n",
    "    gx.expectations.ExpectColumnValuesToBeOfType(column=\"close\", type_=\"float64\")\n",
    ")\n",
    "suite.add_expectation(\n",
    "    gx.expectations.ExpectColumnValuesToBeOfType(column=\"adj_close\", type_=\"float64\")\n",
    ")\n",
    "suite.add_expectation(\n",
    "    gx.expectations.ExpectColumnValuesToBeOfType(column=\"volume\", type_=\"int64\")\n",
    ")\n",
    "\n",
    "# --- Logical price relationships ---\n",
    "suite.add_expectation(\n",
    "    gx.expectations.ExpectColumnPairValuesAToBeGreaterThanB(column_A=\"high\", column_B=\"low\")\n",
    ")\n",
    "\n",
    "# --- Uniqueness & row count ---\n",
    "suite.add_expectation(\n",
    "    gx.expectations.ExpectCompoundColumnsToBeUnique(column_list=[\"date\", \"symbol\"])\n",
    ")\n",
    "suite.add_expectation(\n",
    "    gx.expectations.ExpectTableRowCountToBeBetween(min_value=1)\n",
    ")\n",
    "\n",
    "# --- Allowed symbols\n",
    "suite.add_expectation(\n",
    "    gx.expectations.ExpectColumnValuesToBeInSet(\n",
    "        column=\"symbol\",\n",
    "        value_set=[\"AAPL\", \"MSFT\", \"AMZN\", \"GOOGL\", \"META\", \"NVDA\", \"TSLA\"],\n",
    "    )\n",
    ")"
   ]
  },
  {
   "cell_type": "code",
   "execution_count": null,
   "id": "1ee2e606",
   "metadata": {},
   "outputs": [],
   "source": [
    "context.suites.add(suite)"
   ]
  },
  {
   "cell_type": "code",
   "execution_count": null,
   "id": "49dea4aa",
   "metadata": {},
   "outputs": [],
   "source": [
    "validation_result = batch.validate(suite)\n",
    "print(validation_result)"
   ]
  }
 ],
 "metadata": {
  "kernelspec": {
   "display_name": "stock-prediction-ml",
   "language": "python",
   "name": "python3"
  },
  "language_info": {
   "codemirror_mode": {
    "name": "ipython",
    "version": 3
   },
   "file_extension": ".py",
   "mimetype": "text/x-python",
   "name": "python",
   "nbconvert_exporter": "python",
   "pygments_lexer": "ipython3",
   "version": "3.13.5"
  }
 },
 "nbformat": 4,
 "nbformat_minor": 5
}
