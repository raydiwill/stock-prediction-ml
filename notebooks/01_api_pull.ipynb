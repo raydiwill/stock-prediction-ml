{
 "cells": [
  {
   "cell_type": "code",
   "execution_count": null,
   "id": "32f0378b",
   "metadata": {},
   "outputs": [],
   "source": [
    "import os\n",
    "\n",
    "import requests\n",
    "from dotenv import load_dotenv\n",
    "\n",
    "# This reads your .env file and puts variables into the environment\n",
    "load_dotenv(\"../config.env\")\n",
    "\n",
    "# Get API key\n",
    "API_KEY = os.getenv('MARKETSTACK_API_KEY')  \n",
    "API_URL = 'https://api.marketstack.com/v2'"
   ]
  },
  {
   "cell_type": "code",
   "execution_count": null,
   "id": "71fa0954",
   "metadata": {},
   "outputs": [],
   "source": [
    "TICKERS = ['AAPL', 'MSFT', 'AMZN', 'NVDA', 'GOOGL', 'META', 'TSLA']\n",
    "LIMIT = 1000\n",
    "OFFSET = 0\n",
    "# START_DATE = '2020-01-01'\n",
    "START_DATE = '2020-10-28'\n",
    "END_DATE = '2025-10-28'"
   ]
  },
  {
   "cell_type": "code",
   "execution_count": null,
   "id": "0235ffc2",
   "metadata": {},
   "outputs": [],
   "source": [
    "eod_api = f\"{API_URL}/eod\"\n",
    "\n",
    "# Define your parameters\n",
    "params = {\n",
    "    'access_key': API_KEY,\n",
    "    'symbols': TICKERS,  # Stock symbols\n",
    "    'limit': LIMIT,                   # Number of results per page\n",
    "    'offset': OFFSET,                    # Pagination offset (Number of results to skip)\n",
    "    'sort': 'ASC',                 # Sort order\n",
    "    'date_from': START_DATE,      # Start date\n",
    "    'date_to': END_DATE         # End date\n",
    "}\n",
    "\n",
    "# Make the API call\n",
    "response = requests.get(eod_api, params=params)\n",
    "\n",
    "# Check if request was successful\n",
    "if response.status_code == 200:\n",
    "    data = response.json()\n",
    "    print(\"API call successful!\")\n",
    "    print(f\"Number of records: {len(data.get('data', []))}\")\n",
    "else:\n",
    "    print(f\"API call failed with status code: {response.status_code}\")\n",
    "    print(f\"Error: {response.text}\")"
   ]
  },
  {
   "cell_type": "code",
   "execution_count": null,
   "id": "fdc67290",
   "metadata": {},
   "outputs": [],
   "source": [
    "data"
   ]
  },
  {
   "cell_type": "code",
   "execution_count": null,
   "id": "9ac44ed1",
   "metadata": {},
   "outputs": [],
   "source": [
    "data['data']"
   ]
  },
  {
   "cell_type": "code",
   "execution_count": null,
   "id": "218f5895",
   "metadata": {},
   "outputs": [],
   "source": [
    "#TODO: loop each element to get data and create a dataframe\n",
    "stock_data = data['data']\n",
    "\n",
    "import pandas as pd\n",
    "\n",
    "df = pd.DataFrame(stock_data)\n",
    "df.head()"
   ]
  },
  {
   "cell_type": "code",
   "execution_count": null,
   "id": "45202bba",
   "metadata": {},
   "outputs": [],
   "source": [
    "final_df = df[['date', 'symbol', 'open', 'high', 'low', 'close', 'volume', 'adj_close']]\n",
    "final_df.head()"
   ]
  },
  {
   "cell_type": "code",
   "execution_count": null,
   "id": "2222c5cb",
   "metadata": {},
   "outputs": [],
   "source": [
    "final_df['date'] = pd.to_datetime(final_df['date'])"
   ]
  },
  {
   "cell_type": "code",
   "execution_count": null,
   "id": "95e06768",
   "metadata": {},
   "outputs": [],
   "source": [
    "final_df.to_parquet(\"../data/raw/stock_data.parquet\", index=False)"
   ]
  },
  {
   "cell_type": "code",
   "execution_count": null,
   "id": "1ca6f256",
   "metadata": {},
   "outputs": [],
   "source": [
    "# import pyarrow as pa\n",
    "# import pyarrow.parquet as pq\n",
    "\n",
    "# # Create PyArrow table and save\n",
    "# table = pa.Table.from_pandas(final_df)\n",
    "# pq.write_table(table, \"../data/raw/stock_data.parquet\")"
   ]
  }
 ],
 "metadata": {
  "kernelspec": {
   "display_name": "stock-prediction-ml",
   "language": "python",
   "name": "python3"
  },
  "language_info": {
   "codemirror_mode": {
    "name": "ipython",
    "version": 3
   },
   "file_extension": ".py",
   "mimetype": "text/x-python",
   "name": "python",
   "nbconvert_exporter": "python",
   "pygments_lexer": "ipython3",
   "version": "3.13.5"
  }
 },
 "nbformat": 4,
 "nbformat_minor": 5
}
